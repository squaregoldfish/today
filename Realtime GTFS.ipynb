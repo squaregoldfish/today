{
 "cells": [
  {
   "cell_type": "code",
   "execution_count": 1,
   "id": "bdac04bb-6060-4960-a513-d7bf29993eb7",
   "metadata": {},
   "outputs": [],
   "source": [
    "import sqlite3\n",
    "from datetime import date, timedelta, datetime\n",
    "import pandas as pd\n",
    "import requests\n",
    "from google.transit import gtfs_realtime_pb2\n",
    "import ipywidgets as widgets\n",
    "import toml\n",
    "\n",
    "pd.set_option('display.max_colwidth', None)\n",
    "pd.set_option('display.max_rows', None)\n",
    "today = date.today().strftime('%Y%m%d')\n",
    "tomorrow = (date.today() + timedelta(days=1)).strftime('%Y%m%d')\n",
    "\n",
    "def make_timestamp(date_str, time_str):\n",
    "    timestamp = pd.to_datetime(date_str)\n",
    "    hours = int(time_str[:2])\n",
    "    if hours > 23:\n",
    "        timestamp += timedelta(days=1)\n",
    "        hours = hours - 24\n",
    "\n",
    "    timestamp += timedelta(hours=hours,minutes=int(time_str[3:5]), seconds=int(time_str[6:8]))\n",
    "    return timestamp\n",
    "\n",
    "def make_in_params(count):\n",
    "    return ','.join([ '?' ] * count)\n"
   ]
  },
  {
   "cell_type": "code",
   "execution_count": 2,
   "id": "ffa8a2cc-4352-45c3-a954-aa473ab33277",
   "metadata": {},
   "outputs": [
    {
     "data": {
      "application/vnd.jupyter.widget-view+json": {
       "model_id": "c0b3761e45bf43c9a7fa3dd497eb6c8a",
       "version_major": 2,
       "version_minor": 0
      },
      "text/plain": [
       "Dropdown(description='Configuration:', options=('delijn.toml', 'sncb.toml', 'sncb_zuid.toml'), value='delijn.t…"
      ]
     },
     "metadata": {},
     "output_type": "display_data"
    }
   ],
   "source": [
    "config_file = widgets.Dropdown(\n",
    "    options=['delijn.toml', 'sncb.toml', 'sncb_zuid.toml'],\n",
    "    description='Configuration:',\n",
    ")\n",
    "\n",
    "display(config_file)"
   ]
  },
  {
   "cell_type": "code",
   "execution_count": 3,
   "id": "b6136f57-cc2a-46b2-9f15-8b49f5f536a1",
   "metadata": {},
   "outputs": [],
   "source": [
    "with open(config_file.value) as f:\n",
    "    config = toml.load(f)\n"
   ]
  },
  {
   "cell_type": "code",
   "execution_count": 9,
   "id": "8c7dd1fb-7b0d-44ad-a0c2-5e07a246617a",
   "metadata": {},
   "outputs": [
    {
     "data": {
      "text/plain": [
       "145"
      ]
     },
     "execution_count": 9,
     "metadata": {},
     "output_type": "execute_result"
    }
   ],
   "source": [
    "with sqlite3.connect(config['gtfs']['database']) as con:\n",
    "\n",
    "    trip_query = (\n",
    "        'SELECT st1.trip_id, st1.stop_id, s.stop_name, r.route_short_name AS route, t.trip_headsign AS destination, '\n",
    "        'r.route_color as color, c.date, st1.departure_time '\n",
    "        'FROM stop_times st1 INNER JOIN stop_times st2 ON st1.trip_id = st2.trip_id '\n",
    "        'INNER JOIN stops s ON s.stop_id = st1.stop_id '\n",
    "        'INNER JOIN trips t ON t.trip_id = st1.trip_id '\n",
    "        'INNER JOIN routes r ON t.route_id = r.route_id '\n",
    "        'INNER JOIN calendar_dates c ON c.service_id = t.service_id '\n",
    "        f'WHERE st1.stop_id IN ({make_in_params(len(config[\"gtfs\"][\"departure_stops\"]))}) AND '\n",
    "        f'st2.stop_id IN ({make_in_params(len(config[\"gtfs\"][\"arrival_stops\"]))}) '\n",
    "        'AND CAST(st2.stop_sequence AS INTEGER) > CAST(st1.stop_sequence AS INTEGER) '\n",
    "        'AND c.exception_type = 1 '\n",
    "        f'AND c.date IN ({today}, {tomorrow}) '\n",
    "        'ORDER BY c.date, st1.departure_time'\n",
    "    )\n",
    "\n",
    "trips = pd.read_sql_query(trip_query, con, params=config[\"gtfs\"]['departure_stops'] + config[\"gtfs\"]['arrival_stops'])\n",
    "trips['timestamp'] = trips.apply(lambda row: make_timestamp(row.date, row.departure_time), axis=1)\n",
    "trips['cancelled'] = False\n",
    "trips['skipped'] = False\n",
    "trips['delay'] = 0\n",
    "\n",
    "trips = trips[trips['timestamp'] > datetime.now()]\n",
    "\n",
    "#trips\n",
    "trips.shape[0]"
   ]
  },
  {
   "cell_type": "code",
   "execution_count": 10,
   "id": "8135290f-49fb-4995-aa29-dffbcb0e1cc4",
   "metadata": {},
   "outputs": [],
   "source": [
    "hdr ={\n",
    "    'Cache-Control': 'no-cache',\n",
    "}\n",
    "\n",
    "if config['gtfs']['realtime_key'] != '':\n",
    "    hdr['Ocp-Apim-Subscription-Key'] = config['gtfs']['realtime_key']\n"
   ]
  },
  {
   "cell_type": "code",
   "execution_count": 11,
   "id": "6f9ed9ab-b8b5-40bd-8bf9-95988947586e",
   "metadata": {},
   "outputs": [],
   "source": [
    "response = requests.get(config['gtfs']['realtime_url'], headers=hdr)\n",
    "feed = gtfs_realtime_pb2.FeedMessage()\n",
    "feed.ParseFromString(response.content)\n",
    "\n",
    "for entity in feed.entity:\n",
    "    trip_id = entity.trip_update.trip.trip_id\n",
    "    if trip_id in trips['trip_id']:\n",
    "        print(f'GOT A TRIP! {trip_id}')\n",
    "        if entity.HasField('trip_update'):\n",
    "            if entity.trip_update.trip.schedule_relationship == 3:\n",
    "                trips.loc[trips['trip_id'] == trip_id, 'cancelled'] = True\n",
    "            else:\n",
    "                stop_id = trips[trips['trip_id'] == trip_id]['stop_id'].iloc[0]\n",
    "                for stop_time_update in entity.trip_update.stop_time_update:\n",
    "                    if stop_time_update.stop_id in departure_stops:\n",
    "                        if stop_time_update.schedule_relationship == 1:\n",
    "                            trips.loc[trips['trip_id'] == trip_id, 'skipped'] = True\n",
    "                        else:\n",
    "                            trips.loc[trips['trip_id'] == trip_id, 'delay'] = int(stop_time_update.departure.delay) if stop_time_update.HasField(\"departure\") else 0\n",
    "\n",
    "#trips"
   ]
  },
  {
   "cell_type": "code",
   "execution_count": null,
   "id": "e6a727ec-c670-4a17-91a1-8a258f991c71",
   "metadata": {},
   "outputs": [],
   "source": []
  }
 ],
 "metadata": {
  "kernelspec": {
   "display_name": "Python 3 (ipykernel)",
   "language": "python",
   "name": "python3"
  },
  "language_info": {
   "codemirror_mode": {
    "name": "ipython",
    "version": 3
   },
   "file_extension": ".py",
   "mimetype": "text/x-python",
   "name": "python",
   "nbconvert_exporter": "python",
   "pygments_lexer": "ipython3",
   "version": "3.11.2"
  }
 },
 "nbformat": 4,
 "nbformat_minor": 5
}
